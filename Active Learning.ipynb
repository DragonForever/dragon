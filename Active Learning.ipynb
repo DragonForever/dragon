{
 "cells": [
  {
   "cell_type": "markdown",
   "metadata": {},
   "source": [
    "Rou Zhang 7050809338"
   ]
  },
  {
   "cell_type": "code",
   "execution_count": 12,
   "metadata": {},
   "outputs": [],
   "source": [
    "import numpy as np\n",
    "import pandas as pd\n",
    "from pandas import DataFrame,Series\n",
    "import os\n",
    "from sklearn.linear_model import LogisticRegression\n",
    "from sklearn import metrics\n",
    "import statsmodels.api as sm\n",
    "from sklearn import model_selection\n",
    "from sklearn.linear_model import LogisticRegression\n",
    "from sklearn import metrics\n",
    "from sklearn.model_selection import cross_val_score\n",
    "from sklearn import datasets\n",
    "from sklearn.feature_selection import RFE\n",
    "from sklearn.linear_model import LogisticRegression\n",
    "from sklearn.model_selection import train_test_split"
   ]
  },
  {
   "cell_type": "code",
   "execution_count": 13,
   "metadata": {},
   "outputs": [],
   "source": [
    "column=['variance','skewness','curtosis' ,'entropy','label']\n",
    "path='/Users/zhangrou/Desktop/courses/INF552/HW4/data_banknote_authentication.csv'\n",
    "f=pd.read_csv(path,names=column)\n",
    "train_df, test_df = train_test_split(f, test_size=472)"
   ]
  },
  {
   "cell_type": "code",
   "execution_count": 15,
   "metadata": {},
   "outputs": [
    {
     "name": "stdout",
     "output_type": "stream",
     "text": [
      "[[0.91525424 0.97245763 0.97881356 ... 0.98940678 0.98940678 0.98940678]\n",
      " [0.89618644 0.90466102 0.98516949 ... 0.98728814 0.98728814 0.98940678]\n",
      " [0.97669492 0.97669492 0.96610169 ... 0.98728814 0.98728814 0.98940678]\n",
      " ...\n",
      " [0.95550847 0.98728814 0.97245763 ... 0.98940678 0.98940678 0.98940678]\n",
      " [0.92161017 0.91737288 0.97669492 ... 0.98728814 0.98728814 0.98728814]\n",
      " [0.86864407 0.95974576 0.9809322  ... 0.98728814 0.98728814 0.98940678]]\n"
     ]
    }
   ],
   "source": [
    "from sklearn.svm import LinearSVC\n",
    "from sklearn.datasets import make_classification\n",
    "from sklearn import svm, datasets\n",
    "from sklearn.model_selection import GridSearchCV\n",
    "from sklearn.model_selection import StratifiedKFold\n",
    "from sklearn.model_selection import LeaveOneOut\n",
    "import numpy as np \n",
    "import bottleneck\n",
    "import heapq\n",
    "result_score=list()\n",
    "parameters={'C':[0.01,1,10,50]}\n",
    "for i in range(50):\n",
    "    train_df=train_df.sample(frac = 1)\n",
    "    for j in range (90):\n",
    "        svc = LinearSVC(penalty='l1',dual=False)\n",
    "        end=(j+1)*10\n",
    "        if (j==0):\n",
    "            train_data=train_df[:end]\n",
    "            while(True):\n",
    "                if(len(train_data[train_data['label']==1])<2 or len(train_data[train_data['label']==0])<2):\n",
    "                    train_df=train_df.sample(frac = 1)\n",
    "                    train_data=train_df[:end]\n",
    "                else :\n",
    "                    break\n",
    "            #print '*********'\n",
    "            clf = GridSearchCV(svc, parameters,cv=LeaveOneOut())\n",
    "            #print '&&&&'\n",
    "        else:\n",
    "            train_data=train_df[:end]\n",
    "            clf = GridSearchCV(svc, parameters,cv=10)\n",
    "        x=train_data.iloc[:,:4]\n",
    "        y=train_data.iloc[:,4]\n",
    "        clf.fit(x,y)\n",
    "        params=clf.best_params_ \n",
    "        best_c=params['C']\n",
    "        best_svc = LinearSVC(penalty='l1',dual=False,C=best_c)\n",
    "        best_svc.fit(x,y)\n",
    "        max_score=best_svc.score(test_df.iloc[:,:4],test_df.iloc[:,4])\n",
    "        result_score.append(max_score)\n",
    "    #print i\n",
    "passive_test_error=np.array(result_score).reshape(50,90)\n",
    "print passive_test_error\n",
    "\n",
    "\n"
   ]
  },
  {
   "cell_type": "code",
   "execution_count": 6,
   "metadata": {},
   "outputs": [
    {
     "name": "stdout",
     "output_type": "stream",
     "text": [
      "[[0.09957627 0.09533898 0.01059322 ... 0.00635593 0.00635593 0.00635593]\n",
      " [0.17584746 0.03601695 0.01059322 ... 0.00847458 0.00847458 0.00635593]\n",
      " [0.15677966 0.10381356 0.05084746 ... 0.00635593 0.00635593 0.00635593]\n",
      " ...\n",
      " [0.18644068 0.14618644 0.02118644 ... 0.00635593 0.00635593 0.00635593]\n",
      " [0.0720339  0.04237288 0.04025424 ... 0.00635593 0.00635593 0.00635593]\n",
      " [0.3029661  0.03177966 0.03601695 ... 0.00635593 0.00635593 0.00635593]]\n"
     ]
    }
   ],
   "source": [
    "print 1-passive_test_error"
   ]
  },
  {
   "cell_type": "markdown",
   "metadata": {},
   "source": [
    "b)i. Train a SVM with a pool of 10 randomly selected data points from the training set using linear kernel and L1 penalty. Select the penalty parameter using 10-fold cross validation.1 Repeat this process by adding 10 other randomly selected data points to the pool, until you use all the 900 points. Do NOT replace the samples back into the training set at each step. Calculate the test error for each SVM. You will have 90 SVMs that were trained using 10, 20, 30, ... , 900 data points and their 90 test errors. You have implemented passive learning.\n",
    "\n",
    "\n",
    "In this step, I used a two-layer loop. The outer loop controls 50 times repeated procedure. And the inner loop controls 90 times randomly selected data points from 10 ,20,30..900. For each time, I used GridSearchCV() to find the best C, and then used the best C we got to train our model LinearSVC(penalty='l1',dual=False,C=best_c) and got test error on test set.\n",
    "Finally , we got a 50 * 90 matrix of test error. The result is above.\n"
   ]
  },
  {
   "cell_type": "code",
   "execution_count": 16,
   "metadata": {},
   "outputs": [
    {
     "name": "stdout",
     "output_type": "stream",
     "text": [
      "[[0.55932203 0.94915254 0.95550847 ... 0.98940678 0.98940678 0.98940678]\n",
      " [0.98305085 0.97881356 0.95974576 ... 0.98940678 0.98940678 0.98940678]\n",
      " [0.76271186 0.8220339  0.8220339  ... 0.98940678 0.98940678 0.98940678]\n",
      " ...\n",
      " [0.87923729 0.95127119 0.95338983 ... 0.98940678 0.98940678 0.98940678]\n",
      " [0.86440678 0.86440678 0.97033898 ... 0.98940678 0.98940678 0.98728814]\n",
      " [0.98516949 0.98728814 0.94279661 ... 0.98728814 0.98728814 0.98940678]]\n"
     ]
    }
   ],
   "source": [
    "from sklearn.svm import LinearSVC\n",
    "from sklearn.datasets import make_classification\n",
    "from sklearn import svm, datasets\n",
    "from sklearn.model_selection import GridSearchCV\n",
    "from sklearn.model_selection import StratifiedKFold\n",
    "from sklearn.model_selection import LeaveOneOut\n",
    "import numpy as np \n",
    "import bottleneck\n",
    "import heapq\n",
    "train=train_df\n",
    "result_score=list()\n",
    "parameters={'C':[0.01,1,10,50]}\n",
    "for i in range(50):\n",
    "    train_data=pd.DataFrame()\n",
    "    train_df=train.sample(frac = 1)\n",
    "    train_x=train_df.iloc[:,:4]\n",
    "    for j in range (90):\n",
    "        svc = LinearSVC(penalty='l1',dual=False)\n",
    "        if (j==0):\n",
    "            num=train_df[:10]\n",
    "            while(True):\n",
    "                if(len(num[num['label']==1])<2 or len(num[num['label']==0])<2):\n",
    "                    train_df=train_df.sample(frac = 1)\n",
    "                    num=train_df[:10]\n",
    "                else :\n",
    "                    break\n",
    "            index=num.index\n",
    "            #print index\n",
    "            train_data=pd.concat([train_data,num],axis=0)\n",
    "            train_x.drop(index,axis=0,inplace=True)\n",
    "            train_df.drop(index,axis=0,inplace=True)\n",
    "            clf = GridSearchCV(svc, parameters,cv=LeaveOneOut())\n",
    "            #print '&&&&&&&'\n",
    "        else:\n",
    "            distance=pd.DataFrame(abs(clf.decision_function(train_x)))\n",
    "            #print distance[:1]\n",
    "            distance.columns=['distance']\n",
    "            distance.index=train_x.index\n",
    "            train_df=pd.concat([train_df,distance],axis=1)\n",
    "            train_df.sort_values(by=\"distance\",axis=0,ascending = True)\n",
    "            num=train_df[:10]\n",
    "            index=num.index\n",
    "            train_data=pd.concat([train_data,num.iloc[:,:5]],axis=0)\n",
    "            train_df.drop('distance',axis=1,inplace=True)\n",
    "            train_x.drop(index,axis=0,inplace=True)\n",
    "            train_df.drop(index,axis=0,inplace=True)\n",
    "            clf = GridSearchCV(svc, parameters,cv=10)\n",
    "        x=train_data.iloc[:,:4]\n",
    "        y=train_data.iloc[:,4]\n",
    "        #print x.shape\n",
    "        #print y.shape\n",
    "        clf.fit(x,y)\n",
    "        params=clf.best_params_ \n",
    "        best_c=params['C']\n",
    "        #print '*************'\n",
    "        best_svc = LinearSVC(penalty='l1',dual=False,C=best_c)\n",
    "        best_svc.fit(x,y)\n",
    "        max_score=best_svc.score(test_df.iloc[:,:4],test_df.iloc[:,4])\n",
    "        #print '***************'\n",
    "        result_score.append(max_score)\n",
    "        #print i,j\n",
    "active_test_error=np.array(result_score).reshape(50,90)\n",
    "print active_test_error\n",
    "        \n",
    "\n"
   ]
  },
  {
   "cell_type": "code",
   "execution_count": 8,
   "metadata": {},
   "outputs": [
    {
     "name": "stdout",
     "output_type": "stream",
     "text": [
      "[[0.45127119 0.01059322 0.01694915 ... 0.00635593 0.00635593 0.00635593]\n",
      " [0.45127119 0.07838983 0.10805085 ... 0.00635593 0.00635593 0.00635593]\n",
      " [0.15042373 0.0190678  0.02542373 ... 0.00635593 0.00635593 0.00635593]\n",
      " ...\n",
      " [0.09533898 0.10169492 0.01483051 ... 0.00635593 0.00635593 0.00635593]\n",
      " [0.09745763 0.03601695 0.01694915 ... 0.01271186 0.01271186 0.00635593]\n",
      " [0.12288136 0.04661017 0.02118644 ... 0.00635593 0.00635593 0.00635593]]\n"
     ]
    }
   ],
   "source": [
    "print 1-active_test_error"
   ]
  },
  {
   "cell_type": "markdown",
   "metadata": {},
   "source": [
    "b) ii. Traina SVM with a pool of 10randomly selected data points from the training set using linear kernel and L1 penalty. Select the parameters of the SVM with 10-fold cross validation. Choose the 10 closest data points in the training set to the margin of the SVM2 and add them to the pool. Do not replace the samples back into the training set. Train a new SVM using the pool.Repeat this process until all training data is used. You will have 90 SVMs that were trained using 10, 20, 30,..., 900 data points and their 90 test errors. You have implemented active learning.\n",
    "\n",
    "\n",
    "In this step, I also used a two-layer loop. The outer loop controls 50 times repeated procedure. And the inner loop controls 90 times randomly selected data points from 10 ,20,30..900. But different from b)i , in this step, each time we select 10 closest data points in the training set to the margin of the SVM2 and add them to the pool. I used clf.decision_function(train_x) to calculate the distance of data point to hyperplan and sort ut by  For each time, I used GridSearchCV() to find the best C, and then used the best C we got to train our model LinearSVC(penalty='l1',dual=False,C=best_c) and got test error on test set.\n",
    "Finally , we got a 50 * 90 matrix of test error. The result is above."
   ]
  },
  {
   "cell_type": "code",
   "execution_count": 9,
   "metadata": {},
   "outputs": [
    {
     "name": "stdout",
     "output_type": "stream",
     "text": [
      "(50, 90)\n",
      "(90,)\n"
     ]
    }
   ],
   "source": [
    "passive_test_error=pd.DataFrame(passive_test_error)\n",
    "active_test_error=pd.DataFrame(active_test_error)\n",
    "print active_test_error.shape\n",
    "print active_test_error.describe().iloc[1,:].shape"
   ]
  },
  {
   "cell_type": "code",
   "execution_count": 11,
   "metadata": {},
   "outputs": [
    {
     "data": {
      "image/png": "[encoded data removed]",
      "text/plain": [
       "<matplotlib.figure.Figure at 0x1c19cffb90>"
      ]
     },
     "metadata": {},
     "output_type": "display_data"
    }
   ],
   "source": [
    "import matplotlib.pyplot as plt\n",
    "x=list()\n",
    "for i in range(90):\n",
    "    x.append((i+1)*10)\n",
    "\n",
    "passive_learning=1-pd.DataFrame(passive_test_error).describe().iloc[1,:]\n",
    "active_learning=1-pd.DataFrame(active_test_error).describe().iloc[1,:]\n",
    "plt.plot(x,passive_learning,color='red',label='passive_learning')\n",
    "plt.plot(x,active_learning,color='blue',label='active_learning')\n",
    "plt.xlabel('num of instance')\n",
    "plt.ylabel('accuracy')\n",
    "plt.legend()\n",
    "plt.show()"
   ]
  },
  {
   "cell_type": "markdown",
   "metadata": {},
   "source": [
    "(c) Average the test errors for the incrementally trained 90 SVMs in 1(b)i and1(b)ii. By doing so, you are performing a Monte Carlo simulation. Plot average test error versus number of training instances for both active and passive learners on the same figure and report your conclusions.\n",
    "\n",
    "According to this step, we can see that active learning method performs better than the passive learning method at first. But with the increase of data points in the pool, they perform almost equally finally."
   ]
  }
 ],
 "metadata": {
  "kernelspec": {
   "display_name": "Python 2",
   "language": "python",
   "name": "python2"
  },
  "language_info": {
   "codemirror_mode": {
    "name": "ipython",
    "version": 2
   },
   "file_extension": ".py",
   "mimetype": "text/x-python",
   "name": "python",
   "nbconvert_exporter": "python",
   "pygments_lexer": "ipython2",
   "version": "2.7.14"
  }
 },
 "nbformat": 4,
 "nbformat_minor": 2
}
