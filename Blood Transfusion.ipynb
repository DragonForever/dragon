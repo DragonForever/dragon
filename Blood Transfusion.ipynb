{
 "cells": [
  {
   "cell_type": "code",
   "execution_count": null,
   "metadata": {},
   "outputs": [],
   "source": [
    "Rou Zhang 7050809338"
   ]
  },
  {
   "cell_type": "code",
   "execution_count": 23,
   "metadata": {},
   "outputs": [],
   "source": [
    "import numpy as np\n",
    "import pandas as pd\n",
    "from pandas import DataFrame,Series\n",
    "import os\n",
    "from sklearn.linear_model import LogisticRegression\n",
    "from sklearn import metrics\n",
    "import statsmodels.api as sm\n",
    "from sklearn import model_selection\n",
    "from sklearn.linear_model import LogisticRegression\n",
    "from sklearn import metrics\n",
    "from sklearn.model_selection import cross_val_score\n",
    "from sklearn import datasets\n",
    "from sklearn.feature_selection import RFE\n",
    "from sklearn.linear_model import LogisticRegression\n",
    "from sklearn.model_selection import train_test_split"
   ]
  },
  {
   "cell_type": "code",
   "execution_count": 38,
   "metadata": {},
   "outputs": [
    {
     "name": "stderr",
     "output_type": "stream",
     "text": [
      "/anaconda2/lib/python2.7/site-packages/ipykernel_launcher.py:8: FutureWarning: reshape is deprecated and will raise in a subsequent release. Please use .values.reshape(...) instead\n",
      "  \n"
     ]
    }
   ],
   "source": [
    "path='/Users/zhangrou/Desktop/courses/INF552/HW5/transfusion.data.csv'\n",
    "f=pd.read_csv(path)\n",
    "#train_df, test_df = train_test_split(f, test_size=472)\n",
    "from sklearn import preprocessing \n",
    "norm_data=pd.DataFrame()\n",
    "for i in range(4):\n",
    "    min_max_scaler = preprocessing.MinMaxScaler() \n",
    "    data=pd.DataFrame(min_max_scaler.fit_transform(f.iloc[:,i].reshape(-1,1)))  \n",
    "    norm_data=pd.concat([norm_data,data],axis=1)  \n",
    "norm_data=pd.concat([norm_data,f.iloc[:,4]],axis=1)\n",
    "norm_data.columns=f.columns"
   ]
  },
  {
   "cell_type": "code",
   "execution_count": 39,
   "metadata": {},
   "outputs": [
    {
     "name": "stdout",
     "output_type": "stream",
     "text": [
      "(570, 5)\n",
      "(178, 5)\n",
      "(142, 5) (36, 5)\n",
      "(456, 5) (114, 5)\n",
      "(598, 5)\n",
      "(150, 5)\n"
     ]
    }
   ],
   "source": [
    "### split train test\n",
    "neg=norm_data[norm_data['whether he/she donated blood in March 2007']==0]\n",
    "print neg.shape\n",
    "pos=norm_data[norm_data['whether he/she donated blood in March 2007']==1]\n",
    "print pos.shape\n",
    "train_pos, test_pos = train_test_split(pos, test_size=0.2)\n",
    "train_neg, test_neg = train_test_split(neg, test_size=0.2)\n",
    "print train_pos.shape, test_pos.shape\n",
    "print train_neg.shape,test_neg.shape\n",
    "train=train_pos.append(train_neg)\n",
    "train=train.sample(frac = 1)\n",
    "print train.shape\n",
    "test=test_pos.append(test_neg)\n",
    "test=test.sample(frac = 1)\n",
    "print test.shape"
   ]
  },
  {
   "cell_type": "code",
   "execution_count": 40,
   "metadata": {
    "scrolled": false
   },
   "outputs": [
    {
     "name": "stdout",
     "output_type": "stream",
     "text": [
      "result on training data\n",
      "[[450   6]\n",
      " [129  13]]\n",
      "0.774247491638796\n",
      "result on test data\n",
      "[[113   1]\n",
      " [ 34   2]]\n",
      "0.7666666666666667\n"
     ]
    }
   ],
   "source": [
    "from sklearn.metrics import confusion_matrix\n",
    "import numpy as np\n",
    "from sklearn.metrics import accuracy_score\n",
    "from sklearn.svm import LinearSVC\n",
    "from sklearn.datasets import make_classification\n",
    "from sklearn import svm, datasets\n",
    "from sklearn.model_selection import GridSearchCV\n",
    "from sklearn.model_selection import StratifiedKFold\n",
    "from sklearn.model_selection import LeaveOneOut\n",
    "import numpy as np \n",
    "from sklearn.svm import SVC\n",
    "from sklearn import metrics\n",
    "parameters={'C':[0.01,0.1,1,10]}\n",
    "svc = LinearSVC(penalty='l1',dual=False)\n",
    "clf = GridSearchCV(svc, parameters,cv=5)\n",
    "clf.fit(train.iloc[:,:4],train.iloc[:,4])\n",
    "params=clf.best_params_ \n",
    "best_c=params['C']\n",
    "best_svc = LinearSVC(penalty='l1',dual=False,C=best_c)\n",
    "best_svc.fit(train.iloc[:,:4],train.iloc[:,4])\n",
    "train_pred=best_svc.predict(train.iloc[:,:4])\n",
    "test_pred=best_svc.predict(test.iloc[:,:4])\n",
    "train_confusion_matrix = confusion_matrix(train.iloc[:,4], train_pred)\n",
    "test_confusion_matrix = confusion_matrix(test.iloc[:,4], test_pred)\n",
    "train_accuracy=clf.score(train.iloc[:,:4],train.iloc[:,4])\n",
    "test_accuracy=clf.score(test.iloc[:,:4],test.iloc[:,4])\n",
    "print 'result on training data'\n",
    "print train_confusion_matrix\n",
    "print train_accuracy\n",
    "\n",
    "\n",
    "print 'result on test data'\n",
    "print test_confusion_matrix\n",
    "print test_accuracy\n"
   ]
  },
  {
   "cell_type": "code",
   "execution_count": 31,
   "metadata": {},
   "outputs": [
    {
     "data": {
      "image/png": "[encoded data removed]",
      "text/plain": [
       "<matplotlib.figure.Figure at 0x11e13f890>"
      ]
     },
     "metadata": {},
     "output_type": "display_data"
    }
   ],
   "source": [
    "from sklearn.metrics import roc_auc_score\n",
    "from sklearn.metrics import roc_curve,auc\n",
    "import matplotlib.pyplot as plt\n",
    "\n",
    "#train_roc_auc = roc_auc_score(train.iloc[:,4], clf.predict(train.iloc[:,:4]))\n",
    "#test_roc_auc = roc_auc_score(test.iloc[:,4], clf.predict(test.iloc[:,:4]))\n",
    "train_fpr, train_tpr, train_thresholds = roc_curve(train.iloc[:,4], clf.decision_function(train.iloc[:,:4]))\n",
    "train_roc_auc = auc(train_fpr, train_tpr)\n",
    "\n",
    "test_fpr, test_tpr, test_thresholds = roc_curve(test.iloc[:,4], clf.decision_function(test.iloc[:,:4]))\n",
    "test_roc_auc = auc(test_fpr, test_tpr)\n",
    "\n",
    "plt.figure()\n",
    "plt.plot(train_fpr, train_tpr, label='SVM_train (AUC = %0.2f)' % train_roc_auc)\n",
    "plt.plot(test_fpr, test_tpr, label='SVM_test(AUC = %0.2f)' % test_roc_auc)\n",
    "\n",
    "plt.plot([0, 1], [0, 1],'r--')\n",
    "plt.xlim([0.0, 1.0])\n",
    "plt.ylim([0.0, 1.05])\n",
    "plt.xlabel('False Positive Rate')\n",
    "plt.ylabel('True Positive Rate')\n",
    "plt.title('Receiver operating characteristic')\n",
    "plt.legend(loc=\"lower right\")\n",
    "plt.savefig('Log_ROC')\n",
    "plt.show()"
   ]
  },
  {
   "cell_type": "markdown",
   "metadata": {},
   "source": [
    "1..(b) Supervised Learning: Train an L1-penalized SVM to classify the data. Use 5 fold cross validation to choose the penalty parameter. Use normalized data. Report the accuracy, AUC, ROC, and confusion matrix for both training and test sets.\n",
    "\n",
    "\n",
    "In this step, I firstly normalize the data set and then use GridSearchCV to find out the best penalty parameter.\n",
    "Secondly, I use the best penalty parameter we got in last step to train our model LinesrSVC( LinearSVC(penalty='l1',dual=False) and calculate accuracy ,confusion_matrix, plot AUC curve  on training set and test set.\n",
    "\n",
    "The result on training data is below:\n",
    "\n",
    "confusion_matrix:\n",
    "\n",
    "[[450   6]\n",
    "\n",
    "\n",
    " [129  13]]\n",
    "\n",
    "accuracy:\n",
    "\n",
    "0.774247491638796\n",
    "\n",
    "The result on test data is below:\n",
    "\n",
    "confusion_matrix:\n",
    "\n",
    "[[113   1]\n",
    "\n",
    "\n",
    " [ 34   2]]\n",
    " \n",
    "accuracy:\n",
    "\n",
    "0.7666666666666667\n",
    "\n",
    "\n",
    "\n",
    "ROC curve is above. AUC_train is 0.75, AUC_test is 0.76\n",
    "\n",
    "\n"
   ]
  },
  {
   "cell_type": "code",
   "execution_count": 41,
   "metadata": {},
   "outputs": [
    {
     "name": "stdout",
     "output_type": "stream",
     "text": [
      "(598, 5)\n",
      "(142, 5) (456, 5)\n",
      "(71, 5) (71, 5) (228, 5) (228, 5)\n"
     ]
    }
   ],
   "source": [
    "#train_neg, test_neg = train_test_split(neg, test_size=0.2)\n",
    "print train.shape\n",
    "train_pos=train[train['whether he/she donated blood in March 2007']==1]\n",
    "train_neg=train[train['whether he/she donated blood in March 2007']==0]\n",
    "print train_pos.shape,train_neg.shape\n",
    "label_pos, unlabel_pos = train_test_split(train_pos, test_size=0.5)\n",
    "label_neg, unlabel_neg = train_test_split(train_neg, test_size=0.5)\n",
    "print label_pos.shape,unlabel_pos.shape,label_neg.shape, unlabel_neg.shape"
   ]
  },
  {
   "cell_type": "code",
   "execution_count": 42,
   "metadata": {},
   "outputs": [
    {
     "name": "stdout",
     "output_type": "stream",
     "text": [
      "(299, 5) (299, 5)\n"
     ]
    }
   ],
   "source": [
    "label_data=label_pos.append(label_neg)\n",
    "label_data=label_data.sample(frac = 1)\n",
    "unlabel_data=unlabel_pos.append(unlabel_neg)\n",
    "unlabel_data=unlabel_data.sample(frac = 1)\n",
    "print label_data.shape, unlabel_data.shape"
   ]
  },
  {
   "cell_type": "code",
   "execution_count": 43,
   "metadata": {},
   "outputs": [
    {
     "name": "stdout",
     "output_type": "stream",
     "text": [
      "0.7892976588628763\n"
     ]
    }
   ],
   "source": [
    "parameters={'C':[0.01,0.1,1,10]}\n",
    "svc = LinearSVC(penalty='l1',dual=False)\n",
    "clf = GridSearchCV(svc, parameters,cv=5)\n",
    "clf.fit(label_data.iloc[:,:4],label_data.iloc[:,4])\n",
    "params=clf.best_params_ \n",
    "best_c=params['C']\n",
    "best_svc = LinearSVC(penalty='l1',dual=False,C=best_c)\n",
    "best_svc.fit(label_data.iloc[:,:4],label_data.iloc[:,4])\n",
    "y_pred=best_svc.predict(label_data.iloc[:,:4])\n",
    "accuracy=clf.score(label_data.iloc[:,:4],label_data.iloc[:,4])\n",
    "print accuracy"
   ]
  },
  {
   "cell_type": "markdown",
   "metadata": {},
   "source": [
    "1..c) i: Train an L1-penalized SVM to classify the labeled data. Choose the penalty parameter using 5 fold cross validation.\n",
    "\n",
    "\n",
    "In this step, I firstlt select 50% of the positive class along with 50% of the negative class in the training set as labeled data and the rest as unlabelled data. \n",
    "Secondly, I used GridSearchCV(svc, parameters,cv=5) to find the best C and use it to train our model. Then test it on the labled data, The accuracy is 0.7892976588628763"
   ]
  },
  {
   "cell_type": "code",
   "execution_count": 44,
   "metadata": {},
   "outputs": [],
   "source": [
    "y_pred=list()\n",
    "svc= LinearSVC(penalty='l1',dual=False)\n",
    "for i in range(len(unlabel_data)):\n",
    "    #print i\n",
    "    svc.fit(label_data.iloc[:,:4],label_data.iloc[:,4])\n",
    "    distance=pd.DataFrame(abs(svc.decision_function(unlabel_data.iloc[:,:4])))\n",
    "    #print distance[:1]\n",
    "    distance.columns=['distance']\n",
    "    distance.index=unlabel_data.index\n",
    "    unlabel_data=pd.concat([unlabel_data.iloc[:,:4],distance],axis=1)\n",
    "    unlabel_data=unlabel_data.sort_values(by=\"distance\",axis=0,ascending = False)\n",
    "    new=unlabel_data.iloc[:1,:4]\n",
    "    #print new\n",
    "    index=new.index\n",
    "    #print new\n",
    "    label=svc.predict(new.iloc[:1,:4])\n",
    "    new['whether he/she donated blood in March 2007']=label\n",
    "    y_pred.append(label)\n",
    "    #print new\n",
    "    label_data=pd.concat([label_data,new],axis=0)\n",
    "    unlabel_data.drop('distance',axis=1,inplace=True)\n",
    "    unlabel_data.drop(index,axis=0,inplace=True)\n",
    "    y_pred.append(svc.predict(new.iloc[:,:4]))\n"
   ]
  },
  {
   "cell_type": "code",
   "execution_count": 45,
   "metadata": {
    "scrolled": true
   },
   "outputs": [
    {
     "name": "stdout",
     "output_type": "stream",
     "text": [
      "[[113   1]\n",
      " [ 33   3]]\n",
      "0.7733333333333333\n"
     ]
    }
   ],
   "source": [
    "from sklearn.metrics import confusion_matrix\n",
    "from sklearn import metrics\n",
    "svc.fit(test.iloc[:,:4],test.iloc[:,4])\n",
    "y_pred=svc.predict(test.iloc[:,:4])\n",
    "confusion_matrix = confusion_matrix(test.iloc[:,4], y_pred)\n",
    "accuracy=svc.score(test.iloc[:,:4],test.iloc[:,4])\n",
    "print(confusion_matrix)\n",
    "print accuracy"
   ]
  },
  {
   "cell_type": "code",
   "execution_count": 37,
   "metadata": {},
   "outputs": [
    {
     "data": {
      "image/png": "[encoded data removed]",
      "text/plain": [
       "<matplotlib.figure.Figure at 0x11e1f5850>"
      ]
     },
     "metadata": {},
     "output_type": "display_data"
    }
   ],
   "source": [
    "from sklearn.metrics import roc_auc_score\n",
    "from sklearn.metrics import roc_curve,auc\n",
    "import matplotlib.pyplot as plt\n",
    "logit_roc_auc = roc_auc_score(test.iloc[:,4], svc.predict(test.iloc[:,:4]))\n",
    "fpr, tpr, thresholds = roc_curve(test.iloc[:,4], svc.decision_function(test.iloc[:,:4]))\n",
    "logit_roc_auc = auc(fpr, tpr)\n",
    "plt.figure()\n",
    "plt.plot(fpr, tpr, label='SVM (AUC = %0.2f)' % logit_roc_auc)\n",
    "plt.plot([0, 1], [0, 1],'r--')\n",
    "plt.xlim([0.0, 1.0])\n",
    "plt.ylim([0.0, 1.05])\n",
    "plt.xlabel('False Positive Rate')\n",
    "plt.ylabel('True Positive Rate')\n",
    "plt.title('SVM Semi-Supervised Learning')\n",
    "plt.legend(loc=\"lower right\")\n",
    "plt.show()"
   ]
  },
  {
   "cell_type": "markdown",
   "metadata": {},
   "source": [
    "1.. c)ii. Find the unlabeled data point that is the closest to the decision boundary of the SVM. Let the SVM label it (ignore its true label), and add it to the labeled data, and retrain the SVM. Continue this process until all unlabeled data are used. Test the final SVM on the test data and report the accuracy, AUC, ROC, and confusion matrix for the test set.\n",
    "\n",
    "\n",
    "In this step, we used a loop to add the unlabel data to label data pool. For each time, we used decision_function() to calculate the distacne between points in unlabel dataset and SVM boundary. And  choose  the point corresponding to the greatest  distance and use predict() function to label it and add it to the label dataset.\n",
    "\n",
    "Finally ,we tested the final SVM on the test data .\n",
    "\n",
    "confusion matrix:\n",
    "\n",
    "[[113   1]\n",
    "\n",
    "\n",
    " [ 33   3]]\n",
    " \n",
    "accuracy:\n",
    "\n",
    "0.7733333333333333\n",
    "\n",
    "\n",
    "ROC  curve is above and AUC is 0.77"
   ]
  },
  {
   "cell_type": "code",
   "execution_count": 4,
   "metadata": {},
   "outputs": [
    {
     "name": "stdout",
     "output_type": "stream",
     "text": [
      "[[0.13796861 0.18839149 0.18839149 0.64740143]\n",
      " [0.12772238 0.0459679  0.0459679  0.19255663]]\n"
     ]
    }
   ],
   "source": [
    "from sklearn.cluster import KMeans\n",
    "kmeans = KMeans(n_clusters=2, random_state=0).fit(train.iloc[:,:4])\n",
    "#print kmeans.labels_\n",
    "print kmeans.cluster_centers_"
   ]
  },
  {
   "cell_type": "markdown",
   "metadata": {},
   "source": [
    "1.. d)i. Run the k-means algorithm multiple times. How do you make sure that the algorithm was not trapped in a local minimum?\n",
    "\n",
    "K-means each time tries to find a local minimum colution. In order to avoid local minimum , we often need to run it multiple or even hundreds of times. With repeat times increasing, it will finally take postition of center of gravity which has the minimm cost function as initialization postition. So that we can avoid our algorithm being trapped in a local minimum.\n"
   ]
  },
  {
   "cell_type": "code",
   "execution_count": 5,
   "metadata": {},
   "outputs": [],
   "source": [
    "class_one=kmeans.cluster_centers_[0]\n",
    "class_two=kmeans.cluster_centers_[1]\n",
    "distance_one=list()\n",
    "distance_two=list()\n",
    "for i in range(len(train)):\n",
    "    a=train.iloc[i,:4]\n",
    "    distance_one.append(np.linalg.norm(a-class_one))\n",
    "    distance_two.append(np.linalg.norm(a-class_two))\n",
    "    \n",
    "    \n",
    "    \n",
    "    "
   ]
  },
  {
   "cell_type": "code",
   "execution_count": 6,
   "metadata": {},
   "outputs": [],
   "source": [
    "distance_one=pd.DataFrame(distance_one)\n",
    "distance_two=pd.DataFrame(distance_two)"
   ]
  },
  {
   "cell_type": "code",
   "execution_count": 8,
   "metadata": {},
   "outputs": [],
   "source": [
    "y=train.iloc[:,4].reset_index(drop=True) \n",
    "distance_one['label']=y\n",
    "distance_two['label']=y"
   ]
  },
  {
   "cell_type": "code",
   "execution_count": 14,
   "metadata": {},
   "outputs": [],
   "source": [
    "distance_one=distance_one.sort_values(by=0,axis=0,ascending = True)\n",
    "distance_two=distance_two.sort_values(by=0,axis=0,ascending = True)\n",
    "temp_one=distance_one[:30]\n",
    "temp_two=distance_two[:30]\n",
    "\n",
    "if(len(temp_one[temp_one['label']==1])-len(temp_one[temp_one['label']==0])>0):\n",
    "    label_one=1\n",
    "else:\n",
    "    lable_one=0\n",
    "if(len(temp_two[temp_two['label']==1])-len(temp_two[temp_two['label']==0])>0):\n",
    "    label_two=1\n",
    "else:\n",
    "    lable_two=0\n",
    "    \n",
    "    "
   ]
  },
  {
   "cell_type": "code",
   "execution_count": 15,
   "metadata": {},
   "outputs": [
    {
     "name": "stdout",
     "output_type": "stream",
     "text": [
      "0 0\n"
     ]
    }
   ],
   "source": [
    "print lable_one,lable_two"
   ]
  },
  {
   "cell_type": "code",
   "execution_count": 21,
   "metadata": {},
   "outputs": [
    {
     "name": "stdout",
     "output_type": "stream",
     "text": [
      "0.76254180602\n"
     ]
    }
   ],
   "source": [
    "accuracy=len(distance_one[distance_one['label']==0])/598.0\n",
    "print accuracy"
   ]
  },
  {
   "cell_type": "code",
   "execution_count": 22,
   "metadata": {},
   "outputs": [
    {
     "name": "stdout",
     "output_type": "stream",
     "text": [
      "[[456   0]\n",
      " [142   0]]\n"
     ]
    }
   ],
   "source": [
    "y_pred=list()\n",
    "for i in range(598):\n",
    "    y_pred.append(0)\n",
    "y_pred=pd.DataFrame(y_pred)\n",
    "from sklearn.metrics import confusion_matrix\n",
    "from sklearn import metrics\n",
    "confusion_matrix = confusion_matrix(distance_one['label'], y_pred)\n",
    "print confusion_matrix"
   ]
  },
  {
   "cell_type": "markdown",
   "metadata": {},
   "source": [
    "1..d)ii. Compute the centers of the two clusters and find the closest 30 data points to each center. Read the true labels of those 30 data points and take a majority poll within them. The majority poll becomes the label predicted by k-means for the members of each cluster. Then compare the labels provided by k- means with the true labels of the training data and report accuracy and the confusion matrix.\n",
    "\n",
    "In this step, We firstly used KMeans() function to find two cluster centers of data set and then calculated the Euclidean distance between each point and each center. Then label it to the  closest cluster.  \n",
    "Secondly, we used majority polling to prediect the lable of the cluster centers. Both predictive value is 0.\n",
    "\n",
    "Finally, we calculated the accuracy and confusion_matrix\n",
    "\n",
    "The accuracy is : 0.76254180602\n",
    "\n",
    "The confusion matrix is :\n",
    "\n",
    "[[456   0]\n",
    "\n",
    " [142   0]]"
   ]
  },
  {
   "cell_type": "code",
   "execution_count": 43,
   "metadata": {},
   "outputs": [
    {
     "name": "stdout",
     "output_type": "stream",
     "text": [
      "[[0.11789851 0.04935444 0.04935444 0.18579932]\n",
      " [0.12032225 0.19427002 0.19427002 0.64563301]]\n"
     ]
    }
   ],
   "source": [
    "kmeans = KMeans(n_clusters=2, random_state=0).fit(test.iloc[:,:4])\n",
    "#print kmeans.labels_\n",
    "print kmeans.cluster_centers_"
   ]
  },
  {
   "cell_type": "code",
   "execution_count": 55,
   "metadata": {},
   "outputs": [],
   "source": [
    "class_one=kmeans.cluster_centers_[0]\n",
    "class_two=kmeans.cluster_centers_[1]\n",
    "y_pred=list()\n",
    "for i in range (len(test)):\n",
    "    a=test.iloc[i,:4]\n",
    "    distance_one=np.linalg.norm(a-class_one)\n",
    "    distance_two=np.linalg.norm(a-class_two)\n",
    "    if distance_one>distance_two:\n",
    "        y_pred.append(1)\n",
    "    else:\n",
    "        y_pred.append(0)\n",
    "    \n",
    "    "
   ]
  },
  {
   "cell_type": "code",
   "execution_count": 57,
   "metadata": {},
   "outputs": [
    {
     "name": "stdout",
     "output_type": "stream",
     "text": [
      "0.76\n"
     ]
    }
   ],
   "source": [
    "accuracy=len(test[test['whether he/she donated blood in March 2007']==0])/150.0\n",
    "print accuracy"
   ]
  },
  {
   "cell_type": "markdown",
   "metadata": {},
   "source": [
    "1.. d)iii. Classify test data based on their proximity to the centers of the clusters. Report accuracy and confusion matrix for the test data.\n",
    "\n",
    "In this step, we used the model we trained last step and predict function to predict lable of the test data and calculated accuracy is 0.76."
   ]
  },
  {
   "cell_type": "markdown",
   "metadata": {},
   "source": [
    "1..(f) One expects that supervised learning on the full data set works better than semi- supervised learning with half of the data set labeled.One expects that unsuper-vised learning underperforms in such situations. Compare the results you obtained by those methods.\n",
    "\n",
    "In this problem, \n",
    "supervise learning accuracy is 0.7666666666666667\n",
    "semi-supervised learning accuracy is 0.7733333333333333\n",
    "unsupervised learning accuracy is 0.76\n",
    "\n",
    "\n",
    "so in this problem, semi-supervised learning does best, supervise learning is second and unsupervised learning is worst."
   ]
  },
  {
   "cell_type": "code",
   "execution_count": 3,
   "metadata": {},
   "outputs": [],
   "source": [
    "path='/Users/zhangrou/Desktop/courses/INF552/HW4/Frogs_MFCCs.csv'\n",
    "f=pd.read_csv(path)"
   ]
  },
  {
   "cell_type": "code",
   "execution_count": 4,
   "metadata": {},
   "outputs": [],
   "source": [
    "x=f.iloc[:,:22]\n",
    "y=f.iloc[22:25]"
   ]
  },
  {
   "cell_type": "code",
   "execution_count": 5,
   "metadata": {},
   "outputs": [
    {
     "name": "stdout",
     "output_type": "stream",
     "text": [
      "3680.7413494630937\n",
      "2756.474989440641\n",
      "2390.2350026691993\n",
      "2128.4862066060823\n",
      "1941.0604599066778\n",
      "1838.723382335969\n",
      "1733.9481260742946\n",
      "1629.5500705792053\n",
      "1536.0462271047982\n",
      "1484.4402266196075\n",
      "1411.5633979629106\n",
      "1358.2370426323841\n",
      "1309.831281218567\n",
      "1247.771290644714\n",
      "2\n"
     ]
    }
   ],
   "source": [
    "max_score=0\n",
    "from sklearn.cluster import KMeans\n",
    "for k in range(2,30,2):\n",
    "    kmeans_model = KMeans(n_clusters=k, random_state=1).fit(x)\n",
    "    labels = kmeans_model.labels_\n",
    "    score=metrics.calinski_harabaz_score(x, labels) \n",
    "    print score\n",
    "    if score>max_score:\n",
    "        max_score=score\n",
    "        best_k=k\n",
    "print best_k \n",
    "        \n",
    "    \n"
   ]
  },
  {
   "cell_type": "markdown",
   "metadata": {},
   "source": [
    "2.. (a) Use k-means clustering on Anuran Calls (MFCCs) Data Set of Homework 4. Choose k automatically based on one of the methods provided in the slides (CH or Gap Statistics or scree plots) or any other method you know.\n",
    "\n",
    "\n",
    "In this step , I used a loop to find the best K , and when K=2, we got the highest CH.  So the best k is 2"
   ]
  },
  {
   "cell_type": "code",
   "execution_count": 6,
   "metadata": {},
   "outputs": [
    {
     "name": "stdout",
     "output_type": "stream",
     "text": [
      "[[ 9.97854689e-01  2.78599755e-01  2.10976333e-01  5.53219293e-01\n",
      "   1.91576411e-01  2.89076622e-02 -1.15212266e-01  4.46576491e-02\n",
      "   2.59658250e-01  3.53446490e-02 -2.64243211e-01  9.58212540e-02\n",
      "   3.16042053e-01 -1.11730412e-01 -2.49249941e-01  9.01269969e-02\n",
      "   1.96107651e-01  1.09029904e-02 -9.84714482e-02 -1.18622932e-01\n",
      "   5.84147698e-02  1.87557610e-01]\n",
      " [ 9.81912190e-01  3.68580302e-01  4.11499956e-01  3.38745161e-01\n",
      "   6.24981505e-02  1.66989514e-01  1.12450307e-01 -4.54103922e-02\n",
      "  -3.26806081e-03  7.66570254e-02  3.29197462e-02 -9.09333134e-03\n",
      "  -1.41984527e-02  3.32633353e-02  4.57955472e-02 -6.01663237e-03\n",
      "  -1.87769057e-02  4.60654835e-03 -4.62719786e-04  1.21530071e-02\n",
      "   1.62062920e-02 -1.24504200e-02]]\n"
     ]
    }
   ],
   "source": [
    "kmeans_model = KMeans(n_clusters=2, random_state=1).fit(x)\n",
    "print kmeans_model.cluster_centers_"
   ]
  },
  {
   "cell_type": "code",
   "execution_count": 7,
   "metadata": {},
   "outputs": [],
   "source": [
    "label=kmeans_model.predict(x)"
   ]
  },
  {
   "cell_type": "code",
   "execution_count": 9,
   "metadata": {},
   "outputs": [],
   "source": [
    "f['label']=label"
   ]
  },
  {
   "cell_type": "code",
   "execution_count": 10,
   "metadata": {},
   "outputs": [],
   "source": [
    "label_one=f[f['label']==0]\n",
    "label_two=f[f['label']==1]"
   ]
  },
  {
   "cell_type": "code",
   "execution_count": 11,
   "metadata": {
    "scrolled": true
   },
   "outputs": [
    {
     "name": "stdout",
     "output_type": "stream",
     "text": [
      "Leptodactylidae    3474\n",
      "Hylidae             124\n",
      "Name: Family, dtype: int64\n",
      "Adenomera        3470\n",
      "Dendropsophus     108\n",
      "Hypsiboas          14\n",
      "Leptodactylus       4\n",
      "Scinax              2\n",
      "Name: Genus, dtype: int64\n",
      "AdenomeraHylaedactylus    3470\n",
      "HylaMinuta                 108\n",
      "HypsiboasCordobae           14\n",
      "LeptodactylusFuscus          4\n",
      "ScinaxRuber                  2\n",
      "Name: Species, dtype: int64\n"
     ]
    }
   ],
   "source": [
    "print \n",
    "\n",
    ".value_counts()\n",
    "print label_one['Genus'].value_counts()\n",
    "print label_one['Species'].value_counts()"
   ]
  },
  {
   "cell_type": "code",
   "execution_count": 12,
   "metadata": {},
   "outputs": [
    {
     "name": "stdout",
     "output_type": "stream",
     "text": [
      "Hylidae            2041\n",
      "Leptodactylidae     946\n",
      "Dendrobatidae       542\n",
      "Bufonidae            68\n",
      "Name: Family, dtype: int64\n",
      "Hypsiboas        1579\n",
      "Adenomera         680\n",
      "Ameerega          542\n",
      "Leptodactylus     266\n",
      "Dendropsophus     202\n",
      "Scinax            146\n",
      "Osteocephalus     114\n",
      "Rhinella           68\n",
      "Name: Genus, dtype: int64\n",
      "HypsiboasCordobae         1107\n",
      "AdenomeraAndre             672\n",
      "Ameeregatrivittata         542\n",
      "HypsiboasCinerascens       472\n",
      "LeptodactylusFuscus        266\n",
      "HylaMinuta                 202\n",
      "ScinaxRuber                146\n",
      "OsteocephalusOophagus      114\n",
      "Rhinellagranulosa           68\n",
      "AdenomeraHylaedactylus       8\n",
      "Name: Species, dtype: int64\n"
     ]
    }
   ],
   "source": [
    "print label_two['Family'].value_counts()\n",
    "print label_two['Genus'].value_counts()\n",
    "print label_two['Species'].value_counts()"
   ]
  },
  {
   "cell_type": "markdown",
   "metadata": {},
   "source": [
    "\n",
    "2..(b) In each cluster, determine which family is the majority by reading the true labels. Repeat for genus and species.\n",
    "\n",
    "In this step , I firstly used the Kmeans to find two cluster centers and then used predict() function to look which cluster each point belongs to.\n",
    "Secondly, I used value_counts() to find which family，genus, species is the majority.\n",
    "\n",
    "And the result is \n",
    "\n",
    "cluster_one:  (Leptodactylidae ,Adenomera , AdenomeraHylaedactylus)\n",
    "\n",
    "cluster_two: (Hylidae   ,Hypsiboas   ,  HypsiboasCordobae)"
   ]
  },
  {
   "cell_type": "code",
   "execution_count": 16,
   "metadata": {},
   "outputs": [
    {
     "name": "stdout",
     "output_type": "stream",
     "text": [
      "(7195, 27)\n"
     ]
    }
   ],
   "source": [
    "print f.shape"
   ]
  },
  {
   "cell_type": "code",
   "execution_count": 18,
   "metadata": {},
   "outputs": [
    {
     "name": "stdout",
     "output_type": "stream",
     "text": [
      "0.298540653231\n"
     ]
    }
   ],
   "source": [
    "family_hamm=(len(label_one[label_one['Family']=='Leptodactylidae'])+len(label_two[label_two['Family']=='Hylidae']))/7195.0\n",
    "genus_hamm=(len(label_one[label_one['Genus']=='Adenomera'])+len(label_two[label_two['Genus']=='Hypsiboas']))/7195.0\n",
    "species_hamm=(len(label_one[label_one['Species']=='AdenomeraHylaedactylus'])+len(label_two[label_two['Species']=='HypsiboasCordobae']))/7195.0\n",
    "\n",
    "hamming_distance=1-(family_hamm+genus_hamm+species_hamm)/3.0\n",
    "print hamming_distance"
   ]
  },
  {
   "cell_type": "markdown",
   "metadata": {},
   "source": [
    "2..(c) Now for each cluster you have a majority label triplet (family, genus, species). Calculate the average Hamming distance between the true labels and the labels assigned by clusters.\n",
    "\n",
    "The average hamming_distance of these three labels is 0.298540653231"
   ]
  },
  {
   "cell_type": "markdown",
   "metadata": {},
   "source": [
    "3. ISLR 10.7.2"
   ]
  },
  {
   "cell_type": "code",
   "execution_count": 55,
   "metadata": {},
   "outputs": [],
   "source": [
    "from scipy.cluster.hierarchy import dendrogram, linkage\n",
    "from matplotlib import pyplot as plt\n",
    "X=[[0, 0.3, 0.4, 0.7], \n",
    "   [0.3, 0, 0.5, 0.8],\n",
    "   [0.4, 0.5, 0.0, 0.45],\n",
    "   [0.7, 0.8, 0.45, 0.0]]"
   ]
  },
  {
   "cell_type": "code",
   "execution_count": 58,
   "metadata": {},
   "outputs": [
    {
     "name": "stderr",
     "output_type": "stream",
     "text": [
      "/anaconda2/lib/python2.7/site-packages/ipykernel_launcher.py:1: ClusterWarning: scipy.cluster: The symmetric non-negative hollow observation matrix looks suspiciously like an uncondensed distance matrix\n",
      "  \"\"\"Entry point for launching an IPython kernel.\n"
     ]
    },
    {
     "data": {
      "image/png": "[encoded data removed]",
      "text/plain": [
       "<matplotlib.figure.Figure at 0x11df5d4d0>"
      ]
     },
     "metadata": {},
     "output_type": "display_data"
    }
   ],
   "source": [
    "\n",
    "Z = linkage(X, 'complete')\n",
    "fig = plt.figure(figsize=(25, 10))\n",
    "dn = dendrogram(Z)"
   ]
  },
  {
   "cell_type": "code",
   "execution_count": 57,
   "metadata": {},
   "outputs": [
    {
     "name": "stderr",
     "output_type": "stream",
     "text": [
      "/anaconda2/lib/python2.7/site-packages/ipykernel_launcher.py:1: ClusterWarning: scipy.cluster: The symmetric non-negative hollow observation matrix looks suspiciously like an uncondensed distance matrix\n",
      "  \"\"\"Entry point for launching an IPython kernel.\n"
     ]
    },
    {
     "data": {
      "image/png": "[encoded data removed]",
      "text/plain": [
       "<matplotlib.figure.Figure at 0x11ddbbf90>"
      ]
     },
     "metadata": {},
     "output_type": "display_data"
    }
   ],
   "source": [
    "Z = linkage(X, 'single')\n",
    "fig = plt.figure(figsize=(5, 5))\n",
    "dn = dendrogram(Z)"
   ]
  },
  {
   "cell_type": "code",
   "execution_count": null,
   "metadata": {},
   "outputs": [],
   "source": [
    "c:  The two clusters are (0,1), (2,3)\n"
   ]
  },
  {
   "cell_type": "code",
   "execution_count": null,
   "metadata": {},
   "outputs": [],
   "source": [
    "d: The two clusters are ( (0, 1,) 2), (3)"
   ]
  },
  {
   "cell_type": "code",
   "execution_count": 60,
   "metadata": {},
   "outputs": [
    {
     "name": "stderr",
     "output_type": "stream",
     "text": [
      "/anaconda2/lib/python2.7/site-packages/ipykernel_launcher.py:1: ClusterWarning: scipy.cluster: The symmetric non-negative hollow observation matrix looks suspiciously like an uncondensed distance matrix\n",
      "  \"\"\"Entry point for launching an IPython kernel.\n"
     ]
    },
    {
     "data": {
      "image/png": "[encoded data removed]",
      "text/plain": [
       "<matplotlib.figure.Figure at 0x11e1dcd50>"
      ]
     },
     "metadata": {},
     "output_type": "display_data"
    }
   ],
   "source": [
    "Z = linkage(X, 'complete')\n",
    "fig = plt.figure(figsize=(5, 5))\n",
    "dn = dendrogram(Z,labels=[1,0,3,2])"
   ]
  },
  {
   "cell_type": "code",
   "execution_count": null,
   "metadata": {},
   "outputs": [],
   "source": []
  }
 ],
 "metadata": {
  "kernelspec": {
   "display_name": "Python 2",
   "language": "python",
   "name": "python2"
  },
  "language_info": {
   "codemirror_mode": {
    "name": "ipython",
    "version": 2
   },
   "file_extension": ".py",
   "mimetype": "text/x-python",
   "name": "python",
   "nbconvert_exporter": "python",
   "pygments_lexer": "ipython2",
   "version": "2.7.14"
  }
 },
 "nbformat": 4,
 "nbformat_minor": 2
}
